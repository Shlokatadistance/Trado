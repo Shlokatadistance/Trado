{
 "cells": [
  {
   "cell_type": "code",
   "execution_count": 23,
   "id": "filled-venezuela",
   "metadata": {},
   "outputs": [],
   "source": [
    "import pandas as pd\n",
    "import quandl as q\n",
    "import numpy as np\n",
    "import matplotlib as plt\n"
   ]
  },
  {
   "cell_type": "code",
   "execution_count": 24,
   "id": "equivalent-tourism",
   "metadata": {},
   "outputs": [],
   "source": [
    "q.ApiConfig.api_key = \"YFD4SBJk5PbNgdRhj8Eo\""
   ]
  },
  {
   "cell_type": "code",
   "execution_count": 25,
   "id": "shared-moral",
   "metadata": {},
   "outputs": [],
   "source": [
    "msft_dat = q.get(\"EOD/MSFT\", start_date=\"2010-01-01\", end_date=\"2019-01-01\")"
   ]
  },
  {
   "cell_type": "code",
   "execution_count": 26,
   "id": "continued-protocol",
   "metadata": {},
   "outputs": [
    {
     "data": {
      "text/html": [
       "<div>\n",
       "<style scoped>\n",
       "    .dataframe tbody tr th:only-of-type {\n",
       "        vertical-align: middle;\n",
       "    }\n",
       "\n",
       "    .dataframe tbody tr th {\n",
       "        vertical-align: top;\n",
       "    }\n",
       "\n",
       "    .dataframe thead th {\n",
       "        text-align: right;\n",
       "    }\n",
       "</style>\n",
       "<table border=\"1\" class=\"dataframe\">\n",
       "  <thead>\n",
       "    <tr style=\"text-align: right;\">\n",
       "      <th></th>\n",
       "      <th>Open</th>\n",
       "      <th>High</th>\n",
       "      <th>Low</th>\n",
       "      <th>Close</th>\n",
       "      <th>Volume</th>\n",
       "      <th>Dividend</th>\n",
       "      <th>Split</th>\n",
       "      <th>Adj_Open</th>\n",
       "      <th>Adj_High</th>\n",
       "      <th>Adj_Low</th>\n",
       "      <th>Adj_Close</th>\n",
       "      <th>Adj_Volume</th>\n",
       "    </tr>\n",
       "    <tr>\n",
       "      <th>Date</th>\n",
       "      <th></th>\n",
       "      <th></th>\n",
       "      <th></th>\n",
       "      <th></th>\n",
       "      <th></th>\n",
       "      <th></th>\n",
       "      <th></th>\n",
       "      <th></th>\n",
       "      <th></th>\n",
       "      <th></th>\n",
       "      <th></th>\n",
       "      <th></th>\n",
       "    </tr>\n",
       "  </thead>\n",
       "  <tbody>\n",
       "    <tr>\n",
       "      <th>2013-09-03</th>\n",
       "      <td>31.7500</td>\n",
       "      <td>32.07</td>\n",
       "      <td>31.29</td>\n",
       "      <td>31.880</td>\n",
       "      <td>154507000.0</td>\n",
       "      <td>0.0</td>\n",
       "      <td>1.0</td>\n",
       "      <td>27.282215</td>\n",
       "      <td>27.557185</td>\n",
       "      <td>26.886945</td>\n",
       "      <td>27.393922</td>\n",
       "      <td>154507000.0</td>\n",
       "    </tr>\n",
       "    <tr>\n",
       "      <th>2013-09-04</th>\n",
       "      <td>31.3900</td>\n",
       "      <td>31.47</td>\n",
       "      <td>31.11</td>\n",
       "      <td>31.195</td>\n",
       "      <td>142320600.0</td>\n",
       "      <td>0.0</td>\n",
       "      <td>1.0</td>\n",
       "      <td>26.972873</td>\n",
       "      <td>27.041616</td>\n",
       "      <td>26.732274</td>\n",
       "      <td>26.805313</td>\n",
       "      <td>142320600.0</td>\n",
       "    </tr>\n",
       "    <tr>\n",
       "      <th>2013-09-05</th>\n",
       "      <td>31.1000</td>\n",
       "      <td>31.44</td>\n",
       "      <td>30.95</td>\n",
       "      <td>31.235</td>\n",
       "      <td>71644900.0</td>\n",
       "      <td>0.0</td>\n",
       "      <td>1.0</td>\n",
       "      <td>26.723681</td>\n",
       "      <td>27.015837</td>\n",
       "      <td>26.594789</td>\n",
       "      <td>26.839684</td>\n",
       "      <td>71644900.0</td>\n",
       "    </tr>\n",
       "    <tr>\n",
       "      <th>2013-09-06</th>\n",
       "      <td>31.3100</td>\n",
       "      <td>31.39</td>\n",
       "      <td>31.13</td>\n",
       "      <td>31.152</td>\n",
       "      <td>75434900.0</td>\n",
       "      <td>0.0</td>\n",
       "      <td>1.0</td>\n",
       "      <td>26.904131</td>\n",
       "      <td>26.972873</td>\n",
       "      <td>26.749460</td>\n",
       "      <td>26.768364</td>\n",
       "      <td>75434900.0</td>\n",
       "    </tr>\n",
       "    <tr>\n",
       "      <th>2013-09-09</th>\n",
       "      <td>31.2208</td>\n",
       "      <td>31.79</td>\n",
       "      <td>31.20</td>\n",
       "      <td>31.655</td>\n",
       "      <td>49628500.0</td>\n",
       "      <td>0.0</td>\n",
       "      <td>1.0</td>\n",
       "      <td>26.827483</td>\n",
       "      <td>27.316586</td>\n",
       "      <td>26.809610</td>\n",
       "      <td>27.200583</td>\n",
       "      <td>49628500.0</td>\n",
       "    </tr>\n",
       "  </tbody>\n",
       "</table>\n",
       "</div>"
      ],
      "text/plain": [
       "               Open   High    Low   Close       Volume  Dividend  Split  \\\n",
       "Date                                                                      \n",
       "2013-09-03  31.7500  32.07  31.29  31.880  154507000.0       0.0    1.0   \n",
       "2013-09-04  31.3900  31.47  31.11  31.195  142320600.0       0.0    1.0   \n",
       "2013-09-05  31.1000  31.44  30.95  31.235   71644900.0       0.0    1.0   \n",
       "2013-09-06  31.3100  31.39  31.13  31.152   75434900.0       0.0    1.0   \n",
       "2013-09-09  31.2208  31.79  31.20  31.655   49628500.0       0.0    1.0   \n",
       "\n",
       "             Adj_Open   Adj_High    Adj_Low  Adj_Close   Adj_Volume  \n",
       "Date                                                                 \n",
       "2013-09-03  27.282215  27.557185  26.886945  27.393922  154507000.0  \n",
       "2013-09-04  26.972873  27.041616  26.732274  26.805313  142320600.0  \n",
       "2013-09-05  26.723681  27.015837  26.594789  26.839684   71644900.0  \n",
       "2013-09-06  26.904131  26.972873  26.749460  26.768364   75434900.0  \n",
       "2013-09-09  26.827483  27.316586  26.809610  27.200583   49628500.0  "
      ]
     },
     "execution_count": 26,
     "metadata": {},
     "output_type": "execute_result"
    }
   ],
   "source": [
    "msft_dat.head()"
   ]
  },
  {
   "cell_type": "code",
   "execution_count": 27,
   "id": "designed-candidate",
   "metadata": {},
   "outputs": [
    {
     "name": "stdout",
     "output_type": "stream",
     "text": [
      "<class 'pandas.core.frame.DataFrame'>\n",
      "DatetimeIndex: 1090 entries, 2013-09-03 to 2017-12-28\n",
      "Data columns (total 12 columns):\n",
      " #   Column      Non-Null Count  Dtype  \n",
      "---  ------      --------------  -----  \n",
      " 0   Open        1090 non-null   float64\n",
      " 1   High        1090 non-null   float64\n",
      " 2   Low         1090 non-null   float64\n",
      " 3   Close       1090 non-null   float64\n",
      " 4   Volume      1090 non-null   float64\n",
      " 5   Dividend    1090 non-null   float64\n",
      " 6   Split       1090 non-null   float64\n",
      " 7   Adj_Open    1090 non-null   float64\n",
      " 8   Adj_High    1090 non-null   float64\n",
      " 9   Adj_Low     1090 non-null   float64\n",
      " 10  Adj_Close   1090 non-null   float64\n",
      " 11  Adj_Volume  1090 non-null   float64\n",
      "dtypes: float64(12)\n",
      "memory usage: 110.7 KB\n"
     ]
    }
   ],
   "source": [
    "msft_dat.info()\n"
   ]
  },
  {
   "cell_type": "code",
   "execution_count": 28,
   "id": "separate-listing",
   "metadata": {},
   "outputs": [
    {
     "data": {
      "text/html": [
       "<div>\n",
       "<style scoped>\n",
       "    .dataframe tbody tr th:only-of-type {\n",
       "        vertical-align: middle;\n",
       "    }\n",
       "\n",
       "    .dataframe tbody tr th {\n",
       "        vertical-align: top;\n",
       "    }\n",
       "\n",
       "    .dataframe thead th {\n",
       "        text-align: right;\n",
       "    }\n",
       "</style>\n",
       "<table border=\"1\" class=\"dataframe\">\n",
       "  <thead>\n",
       "    <tr style=\"text-align: right;\">\n",
       "      <th></th>\n",
       "      <th>Open</th>\n",
       "      <th>High</th>\n",
       "      <th>Low</th>\n",
       "      <th>Close</th>\n",
       "      <th>Volume</th>\n",
       "      <th>Dividend</th>\n",
       "      <th>Split</th>\n",
       "      <th>Adj_Open</th>\n",
       "      <th>Adj_High</th>\n",
       "      <th>Adj_Low</th>\n",
       "      <th>Adj_Close</th>\n",
       "      <th>Adj_Volume</th>\n",
       "    </tr>\n",
       "  </thead>\n",
       "  <tbody>\n",
       "    <tr>\n",
       "      <th>count</th>\n",
       "      <td>1090.000000</td>\n",
       "      <td>1090.000000</td>\n",
       "      <td>1090.000000</td>\n",
       "      <td>1090.000000</td>\n",
       "      <td>1.090000e+03</td>\n",
       "      <td>1090.000000</td>\n",
       "      <td>1090.0</td>\n",
       "      <td>1090.000000</td>\n",
       "      <td>1090.000000</td>\n",
       "      <td>1090.000000</td>\n",
       "      <td>1090.000000</td>\n",
       "      <td>1.090000e+03</td>\n",
       "    </tr>\n",
       "    <tr>\n",
       "      <th>mean</th>\n",
       "      <td>52.584746</td>\n",
       "      <td>52.995410</td>\n",
       "      <td>52.178964</td>\n",
       "      <td>52.617352</td>\n",
       "      <td>3.185689e+07</td>\n",
       "      <td>0.005303</td>\n",
       "      <td>1.0</td>\n",
       "      <td>48.203378</td>\n",
       "      <td>48.578274</td>\n",
       "      <td>47.832746</td>\n",
       "      <td>48.233150</td>\n",
       "      <td>3.185689e+07</td>\n",
       "    </tr>\n",
       "    <tr>\n",
       "      <th>std</th>\n",
       "      <td>12.834439</td>\n",
       "      <td>12.866606</td>\n",
       "      <td>12.784332</td>\n",
       "      <td>12.832792</td>\n",
       "      <td>1.709372e+07</td>\n",
       "      <td>0.042538</td>\n",
       "      <td>0.0</td>\n",
       "      <td>13.325318</td>\n",
       "      <td>13.366101</td>\n",
       "      <td>13.268438</td>\n",
       "      <td>13.324810</td>\n",
       "      <td>1.709372e+07</td>\n",
       "    </tr>\n",
       "    <tr>\n",
       "      <th>min</th>\n",
       "      <td>31.100000</td>\n",
       "      <td>31.390000</td>\n",
       "      <td>30.950000</td>\n",
       "      <td>31.152000</td>\n",
       "      <td>7.425603e+06</td>\n",
       "      <td>0.000000</td>\n",
       "      <td>1.0</td>\n",
       "      <td>26.723681</td>\n",
       "      <td>26.972873</td>\n",
       "      <td>26.594789</td>\n",
       "      <td>26.768364</td>\n",
       "      <td>7.425603e+06</td>\n",
       "    </tr>\n",
       "    <tr>\n",
       "      <th>25%</th>\n",
       "      <td>42.955000</td>\n",
       "      <td>43.265000</td>\n",
       "      <td>42.612500</td>\n",
       "      <td>43.058750</td>\n",
       "      <td>2.185425e+07</td>\n",
       "      <td>0.000000</td>\n",
       "      <td>1.0</td>\n",
       "      <td>38.184329</td>\n",
       "      <td>38.649633</td>\n",
       "      <td>37.810480</td>\n",
       "      <td>38.338615</td>\n",
       "      <td>2.185425e+07</td>\n",
       "    </tr>\n",
       "    <tr>\n",
       "      <th>50%</th>\n",
       "      <td>49.535000</td>\n",
       "      <td>50.105000</td>\n",
       "      <td>49.120000</td>\n",
       "      <td>49.690000</td>\n",
       "      <td>2.808245e+07</td>\n",
       "      <td>0.000000</td>\n",
       "      <td>1.0</td>\n",
       "      <td>45.451903</td>\n",
       "      <td>45.969877</td>\n",
       "      <td>44.979617</td>\n",
       "      <td>45.609340</td>\n",
       "      <td>2.808245e+07</td>\n",
       "    </tr>\n",
       "    <tr>\n",
       "      <th>75%</th>\n",
       "      <td>60.640000</td>\n",
       "      <td>61.130000</td>\n",
       "      <td>60.241250</td>\n",
       "      <td>60.637500</td>\n",
       "      <td>3.624615e+07</td>\n",
       "      <td>0.000000</td>\n",
       "      <td>1.0</td>\n",
       "      <td>56.734680</td>\n",
       "      <td>57.262982</td>\n",
       "      <td>56.517951</td>\n",
       "      <td>56.876800</td>\n",
       "      <td>3.624615e+07</td>\n",
       "    </tr>\n",
       "    <tr>\n",
       "      <th>max</th>\n",
       "      <td>87.120000</td>\n",
       "      <td>87.499900</td>\n",
       "      <td>86.230000</td>\n",
       "      <td>86.850000</td>\n",
       "      <td>2.025224e+08</td>\n",
       "      <td>0.420000</td>\n",
       "      <td>1.0</td>\n",
       "      <td>83.590499</td>\n",
       "      <td>83.955008</td>\n",
       "      <td>82.736556</td>\n",
       "      <td>83.331438</td>\n",
       "      <td>2.025224e+08</td>\n",
       "    </tr>\n",
       "  </tbody>\n",
       "</table>\n",
       "</div>"
      ],
      "text/plain": [
       "              Open         High          Low        Close        Volume  \\\n",
       "count  1090.000000  1090.000000  1090.000000  1090.000000  1.090000e+03   \n",
       "mean     52.584746    52.995410    52.178964    52.617352  3.185689e+07   \n",
       "std      12.834439    12.866606    12.784332    12.832792  1.709372e+07   \n",
       "min      31.100000    31.390000    30.950000    31.152000  7.425603e+06   \n",
       "25%      42.955000    43.265000    42.612500    43.058750  2.185425e+07   \n",
       "50%      49.535000    50.105000    49.120000    49.690000  2.808245e+07   \n",
       "75%      60.640000    61.130000    60.241250    60.637500  3.624615e+07   \n",
       "max      87.120000    87.499900    86.230000    86.850000  2.025224e+08   \n",
       "\n",
       "          Dividend   Split     Adj_Open     Adj_High      Adj_Low  \\\n",
       "count  1090.000000  1090.0  1090.000000  1090.000000  1090.000000   \n",
       "mean      0.005303     1.0    48.203378    48.578274    47.832746   \n",
       "std       0.042538     0.0    13.325318    13.366101    13.268438   \n",
       "min       0.000000     1.0    26.723681    26.972873    26.594789   \n",
       "25%       0.000000     1.0    38.184329    38.649633    37.810480   \n",
       "50%       0.000000     1.0    45.451903    45.969877    44.979617   \n",
       "75%       0.000000     1.0    56.734680    57.262982    56.517951   \n",
       "max       0.420000     1.0    83.590499    83.955008    82.736556   \n",
       "\n",
       "         Adj_Close    Adj_Volume  \n",
       "count  1090.000000  1.090000e+03  \n",
       "mean     48.233150  3.185689e+07  \n",
       "std      13.324810  1.709372e+07  \n",
       "min      26.768364  7.425603e+06  \n",
       "25%      38.338615  2.185425e+07  \n",
       "50%      45.609340  2.808245e+07  \n",
       "75%      56.876800  3.624615e+07  \n",
       "max      83.331438  2.025224e+08  "
      ]
     },
     "execution_count": 28,
     "metadata": {},
     "output_type": "execute_result"
    }
   ],
   "source": [
    "msft_dat.describe()"
   ]
  },
  {
   "cell_type": "code",
   "execution_count": 29,
   "id": "successful-wages",
   "metadata": {},
   "outputs": [
    {
     "data": {
      "text/html": [
       "<div>\n",
       "<style scoped>\n",
       "    .dataframe tbody tr th:only-of-type {\n",
       "        vertical-align: middle;\n",
       "    }\n",
       "\n",
       "    .dataframe tbody tr th {\n",
       "        vertical-align: top;\n",
       "    }\n",
       "\n",
       "    .dataframe thead th {\n",
       "        text-align: right;\n",
       "    }\n",
       "</style>\n",
       "<table border=\"1\" class=\"dataframe\">\n",
       "  <thead>\n",
       "    <tr style=\"text-align: right;\">\n",
       "      <th></th>\n",
       "      <th>Open</th>\n",
       "      <th>High</th>\n",
       "      <th>Low</th>\n",
       "      <th>Close</th>\n",
       "      <th>Volume</th>\n",
       "      <th>Dividend</th>\n",
       "      <th>Split</th>\n",
       "      <th>Adj_Open</th>\n",
       "      <th>Adj_High</th>\n",
       "      <th>Adj_Low</th>\n",
       "      <th>Adj_Close</th>\n",
       "      <th>Adj_Volume</th>\n",
       "    </tr>\n",
       "    <tr>\n",
       "      <th>Date</th>\n",
       "      <th></th>\n",
       "      <th></th>\n",
       "      <th></th>\n",
       "      <th></th>\n",
       "      <th></th>\n",
       "      <th></th>\n",
       "      <th></th>\n",
       "      <th></th>\n",
       "      <th></th>\n",
       "      <th></th>\n",
       "      <th></th>\n",
       "      <th></th>\n",
       "    </tr>\n",
       "  </thead>\n",
       "  <tbody>\n",
       "    <tr>\n",
       "      <th>2013-09-30</th>\n",
       "      <td>32.491545</td>\n",
       "      <td>32.778450</td>\n",
       "      <td>32.238500</td>\n",
       "      <td>32.523450</td>\n",
       "      <td>6.214808e+07</td>\n",
       "      <td>0.000</td>\n",
       "      <td>1.0</td>\n",
       "      <td>27.919411</td>\n",
       "      <td>28.165944</td>\n",
       "      <td>27.701974</td>\n",
       "      <td>27.946827</td>\n",
       "      <td>6.214808e+07</td>\n",
       "    </tr>\n",
       "    <tr>\n",
       "      <th>2013-10-31</th>\n",
       "      <td>34.355222</td>\n",
       "      <td>34.631517</td>\n",
       "      <td>34.108000</td>\n",
       "      <td>34.381957</td>\n",
       "      <td>4.197093e+07</td>\n",
       "      <td>0.000</td>\n",
       "      <td>1.0</td>\n",
       "      <td>29.520836</td>\n",
       "      <td>29.758252</td>\n",
       "      <td>29.308403</td>\n",
       "      <td>29.543809</td>\n",
       "      <td>4.197093e+07</td>\n",
       "    </tr>\n",
       "    <tr>\n",
       "      <th>2013-11-30</th>\n",
       "      <td>37.227245</td>\n",
       "      <td>37.557500</td>\n",
       "      <td>37.042750</td>\n",
       "      <td>37.362100</td>\n",
       "      <td>4.002158e+07</td>\n",
       "      <td>0.014</td>\n",
       "      <td>1.0</td>\n",
       "      <td>32.086750</td>\n",
       "      <td>32.371219</td>\n",
       "      <td>31.927872</td>\n",
       "      <td>32.202663</td>\n",
       "      <td>4.002158e+07</td>\n",
       "    </tr>\n",
       "    <tr>\n",
       "      <th>2013-12-31</th>\n",
       "      <td>37.508100</td>\n",
       "      <td>37.769286</td>\n",
       "      <td>37.110810</td>\n",
       "      <td>37.455238</td>\n",
       "      <td>3.936275e+07</td>\n",
       "      <td>0.000</td>\n",
       "      <td>1.0</td>\n",
       "      <td>32.475678</td>\n",
       "      <td>32.701820</td>\n",
       "      <td>32.131691</td>\n",
       "      <td>32.429908</td>\n",
       "      <td>3.936275e+07</td>\n",
       "    </tr>\n",
       "    <tr>\n",
       "      <th>2014-01-31</th>\n",
       "      <td>36.427381</td>\n",
       "      <td>36.689048</td>\n",
       "      <td>35.942857</td>\n",
       "      <td>36.350000</td>\n",
       "      <td>4.429649e+07</td>\n",
       "      <td>0.000</td>\n",
       "      <td>1.0</td>\n",
       "      <td>31.539958</td>\n",
       "      <td>31.766517</td>\n",
       "      <td>31.120442</td>\n",
       "      <td>31.472959</td>\n",
       "      <td>4.429649e+07</td>\n",
       "    </tr>\n",
       "  </tbody>\n",
       "</table>\n",
       "</div>"
      ],
      "text/plain": [
       "                 Open       High        Low      Close        Volume  \\\n",
       "Date                                                                   \n",
       "2013-09-30  32.491545  32.778450  32.238500  32.523450  6.214808e+07   \n",
       "2013-10-31  34.355222  34.631517  34.108000  34.381957  4.197093e+07   \n",
       "2013-11-30  37.227245  37.557500  37.042750  37.362100  4.002158e+07   \n",
       "2013-12-31  37.508100  37.769286  37.110810  37.455238  3.936275e+07   \n",
       "2014-01-31  36.427381  36.689048  35.942857  36.350000  4.429649e+07   \n",
       "\n",
       "            Dividend  Split   Adj_Open   Adj_High    Adj_Low  Adj_Close  \\\n",
       "Date                                                                      \n",
       "2013-09-30     0.000    1.0  27.919411  28.165944  27.701974  27.946827   \n",
       "2013-10-31     0.000    1.0  29.520836  29.758252  29.308403  29.543809   \n",
       "2013-11-30     0.014    1.0  32.086750  32.371219  31.927872  32.202663   \n",
       "2013-12-31     0.000    1.0  32.475678  32.701820  32.131691  32.429908   \n",
       "2014-01-31     0.000    1.0  31.539958  31.766517  31.120442  31.472959   \n",
       "\n",
       "              Adj_Volume  \n",
       "Date                      \n",
       "2013-09-30  6.214808e+07  \n",
       "2013-10-31  4.197093e+07  \n",
       "2013-11-30  4.002158e+07  \n",
       "2013-12-31  3.936275e+07  \n",
       "2014-01-31  4.429649e+07  "
      ]
     },
     "execution_count": 29,
     "metadata": {},
     "output_type": "execute_result"
    }
   ],
   "source": [
    "msft_dat.resample('M').mean().head()"
   ]
  },
  {
   "cell_type": "code",
   "execution_count": 30,
   "id": "refined-volleyball",
   "metadata": {},
   "outputs": [],
   "source": [
    "daily_close = msft_dat[['Adj_Close']]"
   ]
  },
  {
   "cell_type": "code",
   "execution_count": 31,
   "id": "designed-literacy",
   "metadata": {},
   "outputs": [],
   "source": [
    "daily_return = daily_close.pct_change()"
   ]
  },
  {
   "cell_type": "code",
   "execution_count": 32,
   "id": "different-unemployment",
   "metadata": {},
   "outputs": [],
   "source": [
    "daily_return.fillna(0, inplace=True)"
   ]
  },
  {
   "cell_type": "code",
   "execution_count": 33,
   "id": "hourly-tutorial",
   "metadata": {},
   "outputs": [
    {
     "name": "stdout",
     "output_type": "stream",
     "text": [
      "            Adj_Close\n",
      "Date                 \n",
      "2013-09-03   0.000000\n",
      "2013-09-04  -0.021487\n",
      "2013-09-05   0.001282\n",
      "2013-09-06  -0.002657\n",
      "2013-09-09   0.016147\n",
      "...               ...\n",
      "2017-12-21  -0.000234\n",
      "2017-12-22   0.000117\n",
      "2017-12-26  -0.001286\n",
      "2017-12-27   0.003630\n",
      "2017-12-28   0.000117\n",
      "\n",
      "[1090 rows x 1 columns]\n"
     ]
    }
   ],
   "source": [
    "print(daily_return)"
   ]
  },
  {
   "cell_type": "code",
   "execution_count": 34,
   "id": "animal-disorder",
   "metadata": {},
   "outputs": [],
   "source": [
    "mdata = msft_dat.resample('M').apply(lambda x: x[-1])"
   ]
  },
  {
   "cell_type": "code",
   "execution_count": 35,
   "id": "assigned-inquiry",
   "metadata": {},
   "outputs": [],
   "source": [
    "monthly_return = mdata.pct_change()"
   ]
  },
  {
   "cell_type": "code",
   "execution_count": 36,
   "id": "german-robinson",
   "metadata": {},
   "outputs": [],
   "source": [
    "adj_prices = msft_dat['Adj_Close']"
   ]
  },
  {
   "cell_type": "code",
   "execution_count": 37,
   "id": "criminal-brooklyn",
   "metadata": {},
   "outputs": [],
   "source": [
    "mav = adj_prices.rolling(window=50).mean()"
   ]
  },
  {
   "cell_type": "code",
   "execution_count": 38,
   "id": "alone-friendly",
   "metadata": {},
   "outputs": [
    {
     "name": "stdout",
     "output_type": "stream",
     "text": [
      "Date\n",
      "2017-12-14    78.191419\n",
      "2017-12-15    78.407545\n",
      "2017-12-18    78.614079\n",
      "2017-12-19    78.804521\n",
      "2017-12-20    78.989015\n",
      "2017-12-21    79.170643\n",
      "2017-12-22    79.339098\n",
      "2017-12-26    79.498377\n",
      "2017-12-27    79.660551\n",
      "2017-12-28    79.824061\n",
      "Name: Adj_Close, dtype: float64\n"
     ]
    }
   ],
   "source": [
    "print(mav[-10:])"
   ]
  },
  {
   "cell_type": "code",
   "execution_count": 40,
   "id": "brutal-scholar",
   "metadata": {},
   "outputs": [
    {
     "data": {
      "text/plain": [
       "<AxesSubplot:xlabel='Date'>"
      ]
     },
     "execution_count": 40,
     "metadata": {},
     "output_type": "execute_result"
    },
    {
     "data": {
      "image/png": "[encoded data removed]",
      "text/plain": [
       "<Figure size 432x288 with 1 Axes>"
      ]
     },
     "metadata": {
      "needs_background": "light"
     },
     "output_type": "display_data"
    }
   ],
   "source": [
    "adj_prices.plot()"
   ]
  },
  {
   "cell_type": "code",
   "execution_count": 41,
   "id": "selective-dating",
   "metadata": {},
   "outputs": [
    {
     "data": {
      "text/plain": [
       "<AxesSubplot:xlabel='Date'>"
      ]
     },
     "execution_count": 41,
     "metadata": {},
     "output_type": "execute_result"
    },
    {
     "data": {
      "image/png": "[encoded data removed]",
      "text/plain": [
       "<Figure size 432x288 with 1 Axes>"
      ]
     },
     "metadata": {
      "needs_background": "light"
     },
     "output_type": "display_data"
    }
   ],
   "source": [
    "mav.plot()"
   ]
  },
  {
   "cell_type": "code",
   "execution_count": null,
   "id": "democratic-difficulty",
   "metadata": {},
   "outputs": [],
   "source": [
    "# simple moving average crossover strategy."
   ]
  }
 ],
 "metadata": {
  "kernelspec": {
   "display_name": "Python 3",
   "language": "python",
   "name": "python3"
  },
  "language_info": {
   "codemirror_mode": {
    "name": "ipython",
    "version": 3
   },
   "file_extension": ".py",
   "mimetype": "text/x-python",
   "name": "python",
   "nbconvert_exporter": "python",
   "pygments_lexer": "ipython3",
   "version": "3.8.1"
  }
 },
 "nbformat": 4,
 "nbformat_minor": 5
}
